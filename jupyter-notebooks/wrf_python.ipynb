{
 "cells": [
  {
   "cell_type": "code",
   "execution_count": null,
   "metadata": {},
   "outputs": [],
   "source": [
    "from netCDF4 import Dataset\n",
    "import glob,sys\n",
    "from matplotlib import patheffects\n",
    "from datetime import datetime\n",
    "import numpy as np\n",
    "import matplotlib.pyplot as plt\n",
    "from matplotlib.cm import get_cmap\n",
    "import cartopy.crs as crs\n",
    "import cartopy.feature as cfeature\n",
    "from netCDF4 import Dataset\n",
    "import xarray as xr\n",
    "from wrf import (getvar, to_np, vertcross, smooth2d, CoordPair, GeoBounds,\n",
    "                 get_cartopy, latlon_coords, cartopy_xlim, cartopy_ylim)"
   ]
  },
  {
   "cell_type": "code",
   "execution_count": null,
   "metadata": {},
   "outputs": [],
   "source": [
    "sys.path.append(\"/Users/chowdahead/Python_Scripts/\")"
   ]
  },
  {
   "cell_type": "code",
   "execution_count": 1,
   "metadata": {},
   "outputs": [],
   "source": [
    "import csv_to_cmap"
   ]
  },
  {
   "cell_type": "code",
   "execution_count": 2,
   "metadata": {},
   "outputs": [
    {
     "name": "stdout",
     "output_type": "stream",
     "text": [
      "/Users/chowdahead/wx_cmaps\n"
     ]
    }
   ],
   "source": [
    "cd ~/wx_cmaps/"
   ]
  },
  {
   "cell_type": "code",
   "execution_count": null,
   "metadata": {},
   "outputs": [],
   "source": [
    "ls"
   ]
  },
  {
   "cell_type": "code",
   "execution_count": 7,
   "metadata": {},
   "outputs": [],
   "source": [
    "csv_to_cmap?"
   ]
  },
  {
   "cell_type": "code",
   "execution_count": null,
   "metadata": {},
   "outputs": [],
   "source": [
    "ahh = csv_to_cmap.colormap_from_csv(\"ahh\",\"fire_ctable.csv\")"
   ]
  },
  {
   "cell_type": "code",
   "execution_count": null,
   "metadata": {},
   "outputs": [],
   "source": [
    "vel_cmap = csv_to_cmap.colormap_from_csv(\"ahh\",\"radial_velocity_cmap.csv\")"
   ]
  },
  {
   "cell_type": "code",
   "execution_count": null,
   "metadata": {},
   "outputs": [],
   "source": [
    "ref_cmap = csv_to_cmap.colormap_from_csv(\"ahh\",\"refl_cmap.csv\")"
   ]
  },
  {
   "cell_type": "code",
   "execution_count": null,
   "metadata": {},
   "outputs": [],
   "source": [
    "probsev_cmap = csv_to_cmap.colormap_from_csv(\"ahh\",\"prob_severe.csv\")"
   ]
  },
  {
   "cell_type": "code",
   "execution_count": 6,
   "metadata": {},
   "outputs": [
    {
     "ename": "KeyError",
     "evalue": "'a'",
     "output_type": "error",
     "traceback": [
      "\u001b[0;31m---------------------------------------------------------------------------\u001b[0m",
      "\u001b[0;31mKeyError\u001b[0m                                  Traceback (most recent call last)",
      "\u001b[0;32m~/anaconda3/envs/wrf/lib/python3.7/site-packages/pandas/core/indexes/base.py\u001b[0m in \u001b[0;36mget_loc\u001b[0;34m(self, key, method, tolerance)\u001b[0m\n\u001b[1;32m   2896\u001b[0m             \u001b[0;32mtry\u001b[0m\u001b[0;34m:\u001b[0m\u001b[0;34m\u001b[0m\u001b[0;34m\u001b[0m\u001b[0m\n\u001b[0;32m-> 2897\u001b[0;31m                 \u001b[0;32mreturn\u001b[0m \u001b[0mself\u001b[0m\u001b[0;34m.\u001b[0m\u001b[0m_engine\u001b[0m\u001b[0;34m.\u001b[0m\u001b[0mget_loc\u001b[0m\u001b[0;34m(\u001b[0m\u001b[0mkey\u001b[0m\u001b[0;34m)\u001b[0m\u001b[0;34m\u001b[0m\u001b[0;34m\u001b[0m\u001b[0m\n\u001b[0m\u001b[1;32m   2898\u001b[0m             \u001b[0;32mexcept\u001b[0m \u001b[0mKeyError\u001b[0m\u001b[0;34m:\u001b[0m\u001b[0;34m\u001b[0m\u001b[0;34m\u001b[0m\u001b[0m\n",
      "\u001b[0;32mpandas/_libs/index.pyx\u001b[0m in \u001b[0;36mpandas._libs.index.IndexEngine.get_loc\u001b[0;34m()\u001b[0m\n",
      "\u001b[0;32mpandas/_libs/index.pyx\u001b[0m in \u001b[0;36mpandas._libs.index.IndexEngine.get_loc\u001b[0;34m()\u001b[0m\n",
      "\u001b[0;32mpandas/_libs/hashtable_class_helper.pxi\u001b[0m in \u001b[0;36mpandas._libs.hashtable.PyObjectHashTable.get_item\u001b[0;34m()\u001b[0m\n",
      "\u001b[0;32mpandas/_libs/hashtable_class_helper.pxi\u001b[0m in \u001b[0;36mpandas._libs.hashtable.PyObjectHashTable.get_item\u001b[0;34m()\u001b[0m\n",
      "\u001b[0;31mKeyError\u001b[0m: 'a'",
      "\nDuring handling of the above exception, another exception occurred:\n",
      "\u001b[0;31mKeyError\u001b[0m                                  Traceback (most recent call last)",
      "\u001b[0;32m<ipython-input-6-c24896a268d7>\u001b[0m in \u001b[0;36m<module>\u001b[0;34m\u001b[0m\n\u001b[0;32m----> 1\u001b[0;31m \u001b[0mglm_flash_cmap\u001b[0m \u001b[0;34m=\u001b[0m \u001b[0mcsv_to_cmap\u001b[0m\u001b[0;34m.\u001b[0m\u001b[0mcolormap_from_csv\u001b[0m\u001b[0;34m(\u001b[0m\u001b[0;34m\"ahh\"\u001b[0m\u001b[0;34m,\u001b[0m\u001b[0;34m\"glm_grid.csv\"\u001b[0m\u001b[0;34m)\u001b[0m\u001b[0;34m\u001b[0m\u001b[0;34m\u001b[0m\u001b[0m\n\u001b[0m",
      "\u001b[0;32m~/csv_to_cmap.py\u001b[0m in \u001b[0;36mcolormap_from_csv\u001b[0;34m(cmap_name, csv_file)\u001b[0m\n\u001b[1;32m     33\u001b[0m                                \u001b[0mfloat\u001b[0m\u001b[0;34m(\u001b[0m\u001b[0mps\u001b[0m\u001b[0;34m[\u001b[0m\u001b[0;34m\"g\"\u001b[0m\u001b[0;34m]\u001b[0m\u001b[0;34m[\u001b[0m\u001b[0mi\u001b[0m\u001b[0;34m]\u001b[0m\u001b[0;34m)\u001b[0m\u001b[0;34m,\u001b[0m\u001b[0;34m\u001b[0m\u001b[0;34m\u001b[0m\u001b[0m\n\u001b[1;32m     34\u001b[0m                                \u001b[0mfloat\u001b[0m\u001b[0;34m(\u001b[0m\u001b[0mps\u001b[0m\u001b[0;34m[\u001b[0m\u001b[0;34m\"b\"\u001b[0m\u001b[0;34m]\u001b[0m\u001b[0;34m[\u001b[0m\u001b[0mi\u001b[0m\u001b[0;34m]\u001b[0m\u001b[0;34m)\u001b[0m\u001b[0;34m,\u001b[0m\u001b[0;34m\u001b[0m\u001b[0;34m\u001b[0m\u001b[0m\n\u001b[0;32m---> 35\u001b[0;31m                                \u001b[0mfloat\u001b[0m\u001b[0;34m(\u001b[0m\u001b[0mps\u001b[0m\u001b[0;34m[\u001b[0m\u001b[0;34m\"a\"\u001b[0m\u001b[0;34m]\u001b[0m\u001b[0;34m[\u001b[0m\u001b[0mi\u001b[0m\u001b[0;34m]\u001b[0m\u001b[0;34m)\u001b[0m\u001b[0;34m\u001b[0m\u001b[0;34m\u001b[0m\u001b[0m\n\u001b[0m\u001b[1;32m     36\u001b[0m                              ))\n\u001b[1;32m     37\u001b[0m \u001b[0;34m\u001b[0m\u001b[0m\n",
      "\u001b[0;32m~/anaconda3/envs/wrf/lib/python3.7/site-packages/pandas/core/frame.py\u001b[0m in \u001b[0;36m__getitem__\u001b[0;34m(self, key)\u001b[0m\n\u001b[1;32m   2978\u001b[0m             \u001b[0;32mif\u001b[0m \u001b[0mself\u001b[0m\u001b[0;34m.\u001b[0m\u001b[0mcolumns\u001b[0m\u001b[0;34m.\u001b[0m\u001b[0mnlevels\u001b[0m \u001b[0;34m>\u001b[0m \u001b[0;36m1\u001b[0m\u001b[0;34m:\u001b[0m\u001b[0;34m\u001b[0m\u001b[0;34m\u001b[0m\u001b[0m\n\u001b[1;32m   2979\u001b[0m                 \u001b[0;32mreturn\u001b[0m \u001b[0mself\u001b[0m\u001b[0;34m.\u001b[0m\u001b[0m_getitem_multilevel\u001b[0m\u001b[0;34m(\u001b[0m\u001b[0mkey\u001b[0m\u001b[0;34m)\u001b[0m\u001b[0;34m\u001b[0m\u001b[0;34m\u001b[0m\u001b[0m\n\u001b[0;32m-> 2980\u001b[0;31m             \u001b[0mindexer\u001b[0m \u001b[0;34m=\u001b[0m \u001b[0mself\u001b[0m\u001b[0;34m.\u001b[0m\u001b[0mcolumns\u001b[0m\u001b[0;34m.\u001b[0m\u001b[0mget_loc\u001b[0m\u001b[0;34m(\u001b[0m\u001b[0mkey\u001b[0m\u001b[0;34m)\u001b[0m\u001b[0;34m\u001b[0m\u001b[0;34m\u001b[0m\u001b[0m\n\u001b[0m\u001b[1;32m   2981\u001b[0m             \u001b[0;32mif\u001b[0m \u001b[0mis_integer\u001b[0m\u001b[0;34m(\u001b[0m\u001b[0mindexer\u001b[0m\u001b[0;34m)\u001b[0m\u001b[0;34m:\u001b[0m\u001b[0;34m\u001b[0m\u001b[0;34m\u001b[0m\u001b[0m\n\u001b[1;32m   2982\u001b[0m                 \u001b[0mindexer\u001b[0m \u001b[0;34m=\u001b[0m \u001b[0;34m[\u001b[0m\u001b[0mindexer\u001b[0m\u001b[0;34m]\u001b[0m\u001b[0;34m\u001b[0m\u001b[0;34m\u001b[0m\u001b[0m\n",
      "\u001b[0;32m~/anaconda3/envs/wrf/lib/python3.7/site-packages/pandas/core/indexes/base.py\u001b[0m in \u001b[0;36mget_loc\u001b[0;34m(self, key, method, tolerance)\u001b[0m\n\u001b[1;32m   2897\u001b[0m                 \u001b[0;32mreturn\u001b[0m \u001b[0mself\u001b[0m\u001b[0;34m.\u001b[0m\u001b[0m_engine\u001b[0m\u001b[0;34m.\u001b[0m\u001b[0mget_loc\u001b[0m\u001b[0;34m(\u001b[0m\u001b[0mkey\u001b[0m\u001b[0;34m)\u001b[0m\u001b[0;34m\u001b[0m\u001b[0;34m\u001b[0m\u001b[0m\n\u001b[1;32m   2898\u001b[0m             \u001b[0;32mexcept\u001b[0m \u001b[0mKeyError\u001b[0m\u001b[0;34m:\u001b[0m\u001b[0;34m\u001b[0m\u001b[0;34m\u001b[0m\u001b[0m\n\u001b[0;32m-> 2899\u001b[0;31m                 \u001b[0;32mreturn\u001b[0m \u001b[0mself\u001b[0m\u001b[0;34m.\u001b[0m\u001b[0m_engine\u001b[0m\u001b[0;34m.\u001b[0m\u001b[0mget_loc\u001b[0m\u001b[0;34m(\u001b[0m\u001b[0mself\u001b[0m\u001b[0;34m.\u001b[0m\u001b[0m_maybe_cast_indexer\u001b[0m\u001b[0;34m(\u001b[0m\u001b[0mkey\u001b[0m\u001b[0;34m)\u001b[0m\u001b[0;34m)\u001b[0m\u001b[0;34m\u001b[0m\u001b[0;34m\u001b[0m\u001b[0m\n\u001b[0m\u001b[1;32m   2900\u001b[0m         \u001b[0mindexer\u001b[0m \u001b[0;34m=\u001b[0m \u001b[0mself\u001b[0m\u001b[0;34m.\u001b[0m\u001b[0mget_indexer\u001b[0m\u001b[0;34m(\u001b[0m\u001b[0;34m[\u001b[0m\u001b[0mkey\u001b[0m\u001b[0;34m]\u001b[0m\u001b[0;34m,\u001b[0m \u001b[0mmethod\u001b[0m\u001b[0;34m=\u001b[0m\u001b[0mmethod\u001b[0m\u001b[0;34m,\u001b[0m \u001b[0mtolerance\u001b[0m\u001b[0;34m=\u001b[0m\u001b[0mtolerance\u001b[0m\u001b[0;34m)\u001b[0m\u001b[0;34m\u001b[0m\u001b[0;34m\u001b[0m\u001b[0m\n\u001b[1;32m   2901\u001b[0m         \u001b[0;32mif\u001b[0m \u001b[0mindexer\u001b[0m\u001b[0;34m.\u001b[0m\u001b[0mndim\u001b[0m \u001b[0;34m>\u001b[0m \u001b[0;36m1\u001b[0m \u001b[0;32mor\u001b[0m \u001b[0mindexer\u001b[0m\u001b[0;34m.\u001b[0m\u001b[0msize\u001b[0m \u001b[0;34m>\u001b[0m \u001b[0;36m1\u001b[0m\u001b[0;34m:\u001b[0m\u001b[0;34m\u001b[0m\u001b[0;34m\u001b[0m\u001b[0m\n",
      "\u001b[0;32mpandas/_libs/index.pyx\u001b[0m in \u001b[0;36mpandas._libs.index.IndexEngine.get_loc\u001b[0;34m()\u001b[0m\n",
      "\u001b[0;32mpandas/_libs/index.pyx\u001b[0m in \u001b[0;36mpandas._libs.index.IndexEngine.get_loc\u001b[0;34m()\u001b[0m\n",
      "\u001b[0;32mpandas/_libs/hashtable_class_helper.pxi\u001b[0m in \u001b[0;36mpandas._libs.hashtable.PyObjectHashTable.get_item\u001b[0;34m()\u001b[0m\n",
      "\u001b[0;32mpandas/_libs/hashtable_class_helper.pxi\u001b[0m in \u001b[0;36mpandas._libs.hashtable.PyObjectHashTable.get_item\u001b[0;34m()\u001b[0m\n",
      "\u001b[0;31mKeyError\u001b[0m: 'a'"
     ]
    }
   ],
   "source": [
    "glm_flash_cmap = csv_to_cmap.colormap_from_csv(\"ahh\",\"glm_grid.csv\")"
   ]
  },
  {
   "cell_type": "code",
   "execution_count": null,
   "metadata": {},
   "outputs": [],
   "source": [
    "files = glob.glob(\"/Users/chowdahead/WRF/WRF/run/wrfout_d01_*\")"
   ]
  },
  {
   "cell_type": "code",
   "execution_count": null,
   "metadata": {},
   "outputs": [],
   "source": [
    "files"
   ]
  },
  {
   "cell_type": "code",
   "execution_count": null,
   "metadata": {},
   "outputs": [],
   "source": [
    "ncfile = Dataset(files[0])\n",
    "list(ncfile.variables)"
   ]
  },
  {
   "cell_type": "code",
   "execution_count": null,
   "metadata": {},
   "outputs": [],
   "source": [
    "slp = getvar(ncfile, \"dbz\",timeidx=1)\n",
    "#rdn = getvar(ncfile,varname=\"RDN\",timeidx=0)"
   ]
  },
  {
   "cell_type": "code",
   "execution_count": null,
   "metadata": {},
   "outputs": [],
   "source": [
    "slp.units"
   ]
  },
  {
   "cell_type": "code",
   "execution_count": null,
   "metadata": {},
   "outputs": [],
   "source": [
    "ncfile.START_DATE"
   ]
  },
  {
   "cell_type": "code",
   "execution_count": null,
   "metadata": {},
   "outputs": [],
   "source": [
    "def get_files():\n",
    "    files = glob.glob(\"/Users/chowdahead/WRF/WRF/run/wrfout_d01_*\")\n",
    "    return files"
   ]
  },
  {
   "cell_type": "code",
   "execution_count": null,
   "metadata": {},
   "outputs": [],
   "source": [
    "def get_data(files,index):\n",
    "    \"\"\"\n",
    "    index: file index number in filenames list \n",
    "    *\n",
    "    \"\"\"\n",
    "    ncfile = Dataset(files[index])\n",
    "    print(\"\\nLons:\\n------------------------------------\")\n",
    "    print(getvar(ncfile, \"XLONG\").min(),getvar(ncfile, \"XLONG\").max())\n",
    "    print(\"\\nLats:\\n------------------------------------\")\n",
    "    print(getvar(ncfile, \"XLAT\").min(),getvar(ncfile, \"XLAT\").max())\n",
    "    return ncfile"
   ]
  },
  {
   "cell_type": "code",
   "execution_count": null,
   "metadata": {},
   "outputs": [],
   "source": [
    "def set_variable(ncfile,var_name,time_index):\n",
    "    \"\"\"\n",
    "    var_name: name of variable, ie 'slp'\n",
    "    time_index: forecasst time index\n",
    "    \"\"\"\n",
    "    \n",
    "    var = getvar(ncfile,var_name,timeidx=time_index)\n",
    "    if var_name == \"slp\":\n",
    "        var = smooth2d(var, 3)\n",
    "    lats, lons = latlon_coords(var)\n",
    "    return lats,lons,var"
   ]
  },
  {
   "cell_type": "code",
   "execution_count": null,
   "metadata": {},
   "outputs": [],
   "source": [
    "def get_wrf_times(time_string):\n",
    "    \"\"\"\n",
    "    time_strings: var.TIME\n",
    "    \"\"\"\n",
    "    date_time_obj = var.Time.dt.strftime(\"%Y-%m-%d %H:%M\")\n",
    "    print(date_time_obj)\n",
    "    cut_time = str(date_time_obj.Time)[36:55]\n",
    "    print(cut_time)\n",
    "    timez = ((cut_time).replace('T',' ')).replace('Z','')\n",
    "    print(timez)\n",
    "    \n",
    "    title_time = datetime.strptime(timez, '%Y-%m-%d %H:%M:%S')\n",
    "    title_time =\"{0:%d-%b-%Y %H%MZ}\".format(title_time)\n",
    "    print(title_time)\n",
    "    \n",
    "    file_time = datetime.strptime(timez, '%Y-%m-%d %H:%M:%S')\n",
    "    file_time = \"{0:%Y_%m_%d_%H%MZ}\".format(file_time)\n",
    "    print(file_time)\n",
    "    \n",
    "    return title_time,file_time"
   ]
  },
  {
   "cell_type": "code",
   "execution_count": null,
   "metadata": {},
   "outputs": [],
   "source": [
    "files = get_files()\n",
    "ncfile = get_data(files,1) \n",
    "var_short_name = \"dbz\"\n",
    "lats,lons,var = set_variable(ncfile,var_short_name,2)\n",
    "\n",
    "vals = var.values"
   ]
  },
  {
   "cell_type": "code",
   "execution_count": null,
   "metadata": {},
   "outputs": [],
   "source": [
    "vals = var.values"
   ]
  },
  {
   "cell_type": "code",
   "execution_count": null,
   "metadata": {},
   "outputs": [],
   "source": [
    "var.description"
   ]
  },
  {
   "cell_type": "code",
   "execution_count": null,
   "metadata": {},
   "outputs": [],
   "source": [
    "var"
   ]
  },
  {
   "cell_type": "code",
   "execution_count": null,
   "metadata": {},
   "outputs": [],
   "source": [
    "files = get_files()\n",
    "ncfile = get_data(files,1) \n",
    "lats,lons,var = set_variable(ncfile,\"slp\",0)"
   ]
  },
  {
   "cell_type": "code",
   "execution_count": null,
   "metadata": {},
   "outputs": [],
   "source": [
    "# Get the cartopy projection object\n",
    "cart_proj = get_cartopy(var)\n",
    "\n",
    "# Create a figure that will have 3 subplots\n",
    "fig = plt.figure(figsize=(17,11))\n",
    "ax = fig.add_subplot(1,2,1,projection=crs.LambertConformal())\n",
    "\n",
    "# Download and create the states, land, and oceans using cartopy features\n",
    "states = cfeature.NaturalEarthFeature(category='cultural', scale='50m',\n",
    "                                      facecolor='none',\n",
    "                                      name='admin_1_states_provinces_shp')\n",
    "land = cfeature.NaturalEarthFeature(category='physical', name='land',\n",
    "                                    scale='50m',\n",
    "                                    facecolor=cfeature.COLORS['land'])\n",
    "ocean = cfeature.NaturalEarthFeature(category='physical', name='ocean',\n",
    "                                     scale='50m',\n",
    "                                     facecolor=cfeature.COLORS['water'])\n",
    "\n",
    "ax.set_extent([-120,-70,20,60],crs.PlateCarree())\n",
    "\n",
    "# Make the pressure contours\n",
    "contour_levels = [960, 965, 970, 975, 980, 990]\n",
    "#cs = ax.contour(lons, lats, to_np(slp).astype(int),np.arange(1000,1030,2),\n",
    "#                    colors=\"r\", transform=crs.PlateCarree(), zorder=30,\n",
    "#                    linewidths=1.0)\n",
    "#plt.clabel(cs,np.arange(1000,1030,2),inline=1, fmt='%d', fontsize=10,inline_spacing=-8,\n",
    "#          colors=\"k\")\n",
    "\n",
    "cs = ax.contour(lons, lats, var,8,cmap=\"nipy_spectral\",vmin=998,vmax=1028,\n",
    "                     transform=crs.PlateCarree(), zorder=30,alpha=0.6)\n",
    "#vals = np.ma.masked_where(vals <0.1, vals)\n",
    "#cs = ax.contourf(lons, lats, vals,cmap=\"nipy_spectral\",\n",
    "#                     transform=crs.PlateCarree(), zorder=300,alpha=0.6)\n",
    "\n",
    "#plt.colorbar(cs)\n",
    "# Draw the oceans, land, and states\n",
    "ax.add_feature(ocean)\n",
    "ax.add_feature(land)\n",
    "ax.add_feature(states, linewidth=.5, edgecolor=\"black\")\n",
    "\n",
    "# Crop the domain to the region around the hurricane\n",
    "#hur_bounds = GeoBounds(CoordPair(lat=20, lon=-120.0),\n",
    "#                       CoordPair(lat=60, lon=-70.0))\n",
    "#ax.set_xlim(cartopy_xlim(var, geobounds=hur_bounds))\n",
    "#ax.set_ylim(cartopy_ylim(var, geobounds=hur_bounds))\n",
    "ax.gridlines(color=\"k\", linestyle=\"dotted\")\n",
    "\n",
    "outline_effect = [patheffects.withStroke(linewidth=3, foreground='black')]\n",
    "\n",
    "cbar = plt.colorbar(cs,orientation=\"horizontal\",ticks=range(998,1030,8)) #,ticks=ticks\n",
    "#cbar = plt.colorbar(cs,orientation=\"horizontal\") #,ticks=ticks\n",
    "posn = ax.get_position()\n",
    "cbar.ax.set_position([posn.x0+0.001, posn.y0-0.001,\n",
    "                            (posn.x1-posn.x0)/2, posn.height])\n",
    "\n",
    "title_time,file_time = get_wrf_times(var)\n",
    "\n",
    "text_time = ax.text(.995, 0.01, \n",
    "            title_time,\n",
    "            horizontalalignment='right', transform=ax.transAxes,\n",
    "            color='white', fontsize=10, weight='bold',zorder=100)\n",
    "text_descr = ax.text(.015, 0.01,\n",
    "            var.description,\n",
    "            horizontalalignment='left', transform=ax.transAxes,\n",
    "            color='white', fontsize=10, weight='bold',zorder=100)\n",
    "\n",
    "\n",
    "text_time.set_path_effects(outline_effect)\n",
    "text_descr.set_path_effects(outline_effect)\n",
    "print(f\"{file_time}_wrf_{var_short_name}\")\n",
    "plt.savefig(f\"/Users/chowdahead/Desktop/{file_time}_wrf_{var_short_name}.png\",bbox_inches=\"tight\",dpi=200)\n",
    "plt.show()\n"
   ]
  },
  {
   "cell_type": "code",
   "execution_count": null,
   "metadata": {},
   "outputs": [],
   "source": [
    "slp.shape"
   ]
  },
  {
   "cell_type": "code",
   "execution_count": null,
   "metadata": {},
   "outputs": [],
   "source": [
    "slp"
   ]
  },
  {
   "cell_type": "code",
   "execution_count": null,
   "metadata": {},
   "outputs": [],
   "source": []
  },
  {
   "cell_type": "code",
   "execution_count": null,
   "metadata": {},
   "outputs": [],
   "source": []
  },
  {
   "cell_type": "code",
   "execution_count": null,
   "metadata": {},
   "outputs": [],
   "source": []
  },
  {
   "cell_type": "code",
   "execution_count": null,
   "metadata": {},
   "outputs": [],
   "source": []
  },
  {
   "cell_type": "code",
   "execution_count": null,
   "metadata": {},
   "outputs": [],
   "source": []
  },
  {
   "cell_type": "code",
   "execution_count": null,
   "metadata": {},
   "outputs": [],
   "source": []
  },
  {
   "cell_type": "code",
   "execution_count": null,
   "metadata": {},
   "outputs": [],
   "source": []
  },
  {
   "cell_type": "code",
   "execution_count": null,
   "metadata": {},
   "outputs": [],
   "source": []
  },
  {
   "cell_type": "code",
   "execution_count": null,
   "metadata": {},
   "outputs": [],
   "source": [
    "File = files[1]"
   ]
  },
  {
   "cell_type": "code",
   "execution_count": null,
   "metadata": {},
   "outputs": [],
   "source": [
    "import numpy as np\n",
    "from matplotlib import pyplot\n",
    "from matplotlib.cm import get_cmap\n",
    "from matplotlib.colors import from_levels_and_colors\n",
    "from cartopy import crs\n",
    "from cartopy.feature import NaturalEarthFeature, COLORS\n",
    "from netCDF4 import Dataset\n",
    "from wrf import (getvar, to_np, get_cartopy, latlon_coords, vertcross,\n",
    "                 cartopy_xlim, cartopy_ylim, interpline, CoordPair)\n",
    "\n",
    "wrf_file = Dataset(File)\n",
    "\n",
    "# Define the cross section start and end points\n",
    "cross_start = CoordPair(lat=46.5, lon=-98)\n",
    "cross_end = CoordPair(lat=46.5, lon=-95)\n",
    "\n",
    "# Get the WRF variables\n",
    "ht = getvar(wrf_file, \"z\", timeidx=0)\n",
    "ter = getvar(wrf_file, \"ter\", timeidx=0)\n",
    "dbz = getvar(wrf_file, \"dbz\", timeidx=0)\n",
    "max_dbz = getvar(wrf_file, \"mdbz\", timeidx=0)\n",
    "Z = 10**(dbz/10.) # Use linear Z for interpolation\n",
    "\n",
    "# Compute the vertical cross-section interpolation.  Also, include the\n",
    "# lat/lon points along the cross-section in the metadata by setting latlon\n",
    "# to True.\n",
    "z_cross = vertcross(Z, ht, wrfin=wrf_file,\n",
    "                    start_point=cross_start,\n",
    "                    end_point=cross_end,\n",
    "                    latlon=True, meta=True)\n",
    "\n",
    "# Convert back to dBz after interpolation\n",
    "dbz_cross = 10.0 * np.log10(z_cross)\n",
    "\n",
    "# Add back the attributes that xarray dropped from the operations above\n",
    "dbz_cross.attrs.update(z_cross.attrs)\n",
    "dbz_cross.attrs[\"description\"] = \"radar reflectivity cross section\"\n",
    "dbz_cross.attrs[\"units\"] = \"dBZ\"\n",
    "\n",
    "# To remove the slight gap between the dbz contours and terrain due to the\n",
    "# contouring of gridded data, a new vertical grid spacing, and model grid\n",
    "# staggering, fill in the lower grid cells with the first non-missing value\n",
    "# for each column.\n",
    "\n",
    "# Make a copy of the z cross data. Let's use regular numpy arrays for this.\n",
    "dbz_cross_filled = np.ma.copy(to_np(dbz_cross))\n",
    "\n",
    "# For each cross section column, find the first index with non-missing\n",
    "# values and copy these to the missing elements below.\n",
    "for i in range(dbz_cross_filled.shape[-1]):\n",
    "    column_vals = dbz_cross_filled[:,i]\n",
    "    # Let's find the lowest index that isn't filled. The nonzero function\n",
    "    # finds all unmasked values greater than 0. Since 0 is a valid value\n",
    "    # for dBZ, let's change that threshold to be -200 dBZ instead.\n",
    "    first_idx = int(np.transpose((column_vals > -200).nonzero())[0])\n",
    "    dbz_cross_filled[0:first_idx, i] = dbz_cross_filled[first_idx, i]\n",
    "\n",
    "# Get the terrain heights along the cross section line\n",
    "ter_line = interpline(ter, wrfin=wrf_file, start_point=cross_start,\n",
    "                      end_point=cross_end)\n",
    "\n",
    "# Get the lat/lon points\n",
    "lats, lons = latlon_coords(dbz)\n",
    "\n",
    "# Get the cartopy projection object\n",
    "cart_proj = get_cartopy(dbz)\n",
    "\n",
    "# Create the figure\n",
    "fig = pyplot.figure(figsize=(8,6))\n",
    "ax_cross = pyplot.axes()\n",
    "\n",
    "dbz_levels = np.arange(5., 75., 5.)\n",
    "\n",
    "# Create the color table found on NWS pages.\n",
    "dbz_rgb = np.array([[4,233,231],\n",
    "                    [1,159,244], [3,0,244],\n",
    "                    [2,253,2], [1,197,1],\n",
    "                    [0,142,0], [253,248,2],\n",
    "                    [229,188,0], [253,149,0],\n",
    "                    [253,0,0], [212,0,0],\n",
    "                    [188,0,0],[248,0,253],\n",
    "                    [152,84,198]], np.float32) / 255.0\n",
    "\n",
    "dbz_map, dbz_norm = from_levels_and_colors(dbz_levels, dbz_rgb,\n",
    "                                           extend=\"max\")\n",
    "\n",
    "# Make the cross section plot for dbz\n",
    "dbz_levels = np.arange(5.,75.,5.)\n",
    "xs = np.arange(0, dbz_cross.shape[-1], 1)\n",
    "ys = to_np(dbz_cross.coords[\"vertical\"])\n",
    "dbz_contours = ax_cross.contourf(xs,\n",
    "                                 ys,\n",
    "                                 to_np(dbz_cross_filled),\n",
    "                                 levels=dbz_levels,\n",
    "                                 cmap=dbz_map,\n",
    "                                 norm=dbz_norm,\n",
    "                                 extend=\"max\")\n",
    "# Add the color bar\n",
    "cb_dbz = fig.colorbar(dbz_contours, ax=ax_cross)\n",
    "cb_dbz.ax.tick_params(labelsize=8)\n",
    "\n",
    "# Fill in the mountain area\n",
    "ht_fill = ax_cross.fill_between(xs, 0, to_np(ter_line),\n",
    "                                facecolor=\"saddlebrown\")\n",
    "\n",
    "# Set the x-ticks to use latitude and longitude labels\n",
    "coord_pairs = to_np(dbz_cross.coords[\"xy_loc\"])\n",
    "x_ticks = np.arange(coord_pairs.shape[0])\n",
    "x_labels = [pair.latlon_str() for pair in to_np(coord_pairs)]\n",
    "\n",
    "# Set the desired number of x ticks below\n",
    "num_ticks = 5\n",
    "thin = int((len(x_ticks) / num_ticks) + .5)\n",
    "ax_cross.set_xticks(x_ticks[::thin])\n",
    "ax_cross.set_xticklabels(x_labels[::thin], rotation=45, fontsize=8)\n",
    "\n",
    "# Set the x-axis and  y-axis labels\n",
    "ax_cross.set_xlabel(\"Latitude, Longitude\", fontsize=12)\n",
    "ax_cross.set_ylabel(\"Height (m)\", fontsize=12)\n",
    "\n",
    "# Add a title\n",
    "ax_cross.set_title(\"Cross-Section of Reflectivity (dBZ)\", {\"fontsize\" : 14})\n",
    "\n",
    "pyplot.show()"
   ]
  },
  {
   "cell_type": "code",
   "execution_count": null,
   "metadata": {},
   "outputs": [],
   "source": [
    "# Get the cartopy projection object\n",
    "cart_proj = get_cartopy(var)\n",
    "\n",
    "# Create a figure that will have 3 subplots\n",
    "fig = plt.figure(figsize=(17,11))\n",
    "ax = fig.add_subplot(1,2,1,projection=crs.LambertConformal())\n",
    "\n",
    "# Download and create the states, land, and oceans using cartopy features\n",
    "states = cfeature.NaturalEarthFeature(category='cultural', scale='50m',\n",
    "                                      facecolor='none',\n",
    "                                      name='admin_1_states_provinces_shp')\n",
    "land = cfeature.NaturalEarthFeature(category='physical', name='land',\n",
    "                                    scale='50m',\n",
    "                                    facecolor=cfeature.COLORS['land'])\n",
    "ocean = cfeature.NaturalEarthFeature(category='physical', name='ocean',\n",
    "                                     scale='50m',\n",
    "                                     facecolor=cfeature.COLORS['water'])\n",
    "\n",
    "ax.set_extent([-120,-70,20,60],crs.PlateCarree())\n",
    "\n",
    "# Make the pressure contours\n",
    "contour_levels = [960, 965, 970, 975, 980, 990]\n",
    "#cs = ax.contour(lons, lats, to_np(slp).astype(int),np.arange(1000,1030,2),\n",
    "#                    colors=\"r\", transform=crs.PlateCarree(), zorder=30,\n",
    "#                    linewidths=1.0)\n",
    "#plt.clabel(cs,np.arange(1000,1030,2),inline=1, fmt='%d', fontsize=10,inline_spacing=-8,\n",
    "#          colors=\"k\")\n",
    "dbz = getvar(wrf_file, \"dbz\", timeidx=-1)\n",
    "max_dbz = getvar(wrf_file, \"mdbz\", timeidx=-1)\n",
    "Z = 10**(dbz/10.) # Use linear Z for interpolation\n",
    "dbz_levels = np.arange(5.,75.,5.)\n",
    "\n",
    "cs = ax.contourf(lons, lats, dbz[0,:,:],cmap=ref_cmap,\n",
    "                     transform=crs.PlateCarree(), zorder=30)\n",
    "\n",
    "#cs = plt.pcolormesh(lons, lats, dbz[0,:,:],8,cmap=\"nipy_spectral\",vmin=998,vmax=1028,\n",
    "#                     transform=crs.PlateCarree(), zorder=30,alpha=0.6)\n",
    "#plt.colorbar(cs)\n",
    "# Draw the oceans, land, and states\n",
    "ax.add_feature(ocean)\n",
    "ax.add_feature(land)\n",
    "ax.add_feature(states, linewidth=.5, edgecolor=\"black\")\n",
    "\n",
    "# Crop the domain to the region around the hurricane\n",
    "#hur_bounds = GeoBounds(CoordPair(lat=20, lon=-120.0),\n",
    "#                       CoordPair(lat=60, lon=-70.0))\n",
    "#ax.set_xlim(cartopy_xlim(var, geobounds=hur_bounds))\n",
    "#ax.set_ylim(cartopy_ylim(var, geobounds=hur_bounds))\n",
    "ax.gridlines(color=\"k\", linestyle=\"dotted\")\n",
    "\n",
    "outline_effect = [patheffects.withStroke(linewidth=3, foreground='black')]\n",
    "\n",
    "cbar = plt.colorbar(cs,orientation=\"horizontal\") #,ticks=ticks ticks=range(998,1030,8)\n",
    "posn = ax.get_position()\n",
    "cbar.ax.set_position([posn.x0+0.001, posn.y0-0.001,\n",
    "                            (posn.x1-posn.x0)/2, posn.height])\n",
    "\n",
    "title_time,file_time = get_wrf_times(var)\n",
    "\n",
    "text_time = ax.text(.995, 0.01, \n",
    "            title_time,\n",
    "            horizontalalignment='right', transform=ax.transAxes,\n",
    "            color='white', fontsize=10, weight='bold',zorder=100)\n",
    "text_descr = ax.text(.015, 0.01,\n",
    "            var.description,\n",
    "            horizontalalignment='left', transform=ax.transAxes,\n",
    "            color='white', fontsize=10, weight='bold',zorder=100)\n",
    "\n",
    "\n",
    "text_time.set_path_effects(outline_effect)\n",
    "text_descr.set_path_effects(outline_effect)\n",
    "\n",
    "plt.savefig(f\"/Users/chowdahead/Desktop/{file_time}_wrf_slp.png\",bbox_inches=\"tight\",dpi=200)\n",
    "plt.show()\n"
   ]
  },
  {
   "cell_type": "code",
   "execution_count": null,
   "metadata": {},
   "outputs": [],
   "source": [
    "dbz"
   ]
  },
  {
   "cell_type": "code",
   "execution_count": null,
   "metadata": {},
   "outputs": [],
   "source": [
    "dbz"
   ]
  },
  {
   "cell_type": "code",
   "execution_count": null,
   "metadata": {},
   "outputs": [],
   "source": []
  }
 ],
 "metadata": {
  "kernelspec": {
   "display_name": "Python 3",
   "language": "python",
   "name": "python3"
  },
  "language_info": {
   "codemirror_mode": {
    "name": "ipython",
    "version": 3
   },
   "file_extension": ".py",
   "mimetype": "text/x-python",
   "name": "python",
   "nbconvert_exporter": "python",
   "pygments_lexer": "ipython3",
   "version": "3.7.6"
  }
 },
 "nbformat": 4,
 "nbformat_minor": 2
}
